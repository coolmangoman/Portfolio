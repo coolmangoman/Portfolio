{
 "cells": [
  {
   "cell_type": "markdown",
   "metadata": {},
   "source": [
    "# ***Singapore MRT Commuting Patterns in 2024 May***"
   ]
  },
  {
   "cell_type": "markdown",
   "metadata": {},
   "source": [
    "## **Project Goal**\n",
    "- To uncover interesting trends in MRT trip data in May 2024\n",
    "\n",
    "## **Research Questions**\n",
    "1. What were the most visited MRT stations on weekdays vs. weekends?\n",
    "2. Which stations do people in Bishan travel to/come from?\n",
    "\n",
    "## **Project Steps**\n",
    "1. Extract Data\n",
    "2. Transform Data\n",
    "3. Visualise Data"
   ]
  },
  {
   "cell_type": "markdown",
   "metadata": {},
   "source": [
    "### **Step 1: Extract Data**\n",
    "- Train station names and coordinates were found in two separate CSV files online.\n",
    "- Monthly MRT trip data between origin-destination pairs of stations was obtained by calling the API provided by Singapore's Land Transport Authority DataMall."
   ]
  },
  {
   "cell_type": "code",
   "execution_count": 9,
   "metadata": {},
   "outputs": [
    {
     "data": {
      "text/plain": [
       "\"import requests\\n\\nurl = 'https://datamall2.mytransport.sg/ltaodataservice/PV/ODTrain'\\nheaders = {'AccountKey': ''}\\ndate_to_check = 202405\\nparams = {'Date': date_to_check}\\n\\n# make request to get api's response\\ntry:\\n    response = requests.get(url, headers = headers, params = params)\\nexcept:\\n    print('request to api unsuccessful')\\ndataset_url = response.json()['value'][0]['Link']\\nprint(dataset_url)\""
      ]
     },
     "execution_count": 9,
     "metadata": {},
     "output_type": "execute_result"
    }
   ],
   "source": [
    "'''import requests\n",
    "\n",
    "url = 'https://datamall2.mytransport.sg/ltaodataservice/PV/ODTrain'\n",
    "headers = {'AccountKey': ''}\n",
    "date_to_check = 202405\n",
    "params = {'Date': date_to_check}\n",
    "\n",
    "# make request to get api's response\n",
    "try:\n",
    "    response = requests.get(url, headers = headers, params = params)\n",
    "except:\n",
    "    print('request to api unsuccessful')\n",
    "dataset_url = response.json()['value'][0]['Link']\n",
    "print(dataset_url)'''"
   ]
  },
  {
   "cell_type": "markdown",
   "metadata": {},
   "source": [
    "### **Step 2: Transform Data**"
   ]
  },
  {
   "cell_type": "markdown",
   "metadata": {},
   "source": [
    "**Importing Libraries**"
   ]
  },
  {
   "cell_type": "code",
   "execution_count": 10,
   "metadata": {},
   "outputs": [],
   "source": [
    "import numpy as np\n",
    "import pandas as pd"
   ]
  },
  {
   "cell_type": "markdown",
   "metadata": {},
   "source": [
    "**Checking Data Quality of Main Dataset**"
   ]
  },
  {
   "cell_type": "code",
   "execution_count": 11,
   "metadata": {},
   "outputs": [
    {
     "data": {
      "text/html": [
       "<div>\n",
       "<style scoped>\n",
       "    .dataframe tbody tr th:only-of-type {\n",
       "        vertical-align: middle;\n",
       "    }\n",
       "\n",
       "    .dataframe tbody tr th {\n",
       "        vertical-align: top;\n",
       "    }\n",
       "\n",
       "    .dataframe thead th {\n",
       "        text-align: right;\n",
       "    }\n",
       "</style>\n",
       "<table border=\"1\" class=\"dataframe\">\n",
       "  <thead>\n",
       "    <tr style=\"text-align: right;\">\n",
       "      <th></th>\n",
       "      <th>YEAR_MONTH</th>\n",
       "      <th>DAY_TYPE</th>\n",
       "      <th>TIME_PER_HOUR</th>\n",
       "      <th>PT_TYPE</th>\n",
       "      <th>ORIGIN_PT_CODE</th>\n",
       "      <th>DESTINATION_PT_CODE</th>\n",
       "      <th>TOTAL_TRIPS</th>\n",
       "    </tr>\n",
       "  </thead>\n",
       "  <tbody>\n",
       "    <tr>\n",
       "      <th>0</th>\n",
       "      <td>2024-05</td>\n",
       "      <td>WEEKDAY</td>\n",
       "      <td>9</td>\n",
       "      <td>TRAIN</td>\n",
       "      <td>DT24</td>\n",
       "      <td>EW32</td>\n",
       "      <td>2</td>\n",
       "    </tr>\n",
       "    <tr>\n",
       "      <th>1</th>\n",
       "      <td>2024-05</td>\n",
       "      <td>WEEKDAY</td>\n",
       "      <td>9</td>\n",
       "      <td>TRAIN</td>\n",
       "      <td>EW32</td>\n",
       "      <td>DT24</td>\n",
       "      <td>7</td>\n",
       "    </tr>\n",
       "    <tr>\n",
       "      <th>2</th>\n",
       "      <td>2024-05</td>\n",
       "      <td>WEEKENDS/HOLIDAY</td>\n",
       "      <td>6</td>\n",
       "      <td>TRAIN</td>\n",
       "      <td>BP4</td>\n",
       "      <td>EW31</td>\n",
       "      <td>6</td>\n",
       "    </tr>\n",
       "    <tr>\n",
       "      <th>3</th>\n",
       "      <td>2024-05</td>\n",
       "      <td>WEEKDAY</td>\n",
       "      <td>6</td>\n",
       "      <td>TRAIN</td>\n",
       "      <td>BP4</td>\n",
       "      <td>EW31</td>\n",
       "      <td>38</td>\n",
       "    </tr>\n",
       "    <tr>\n",
       "      <th>4</th>\n",
       "      <td>2024-05</td>\n",
       "      <td>WEEKENDS/HOLIDAY</td>\n",
       "      <td>12</td>\n",
       "      <td>TRAIN</td>\n",
       "      <td>NE15</td>\n",
       "      <td>SW5</td>\n",
       "      <td>69</td>\n",
       "    </tr>\n",
       "  </tbody>\n",
       "</table>\n",
       "</div>"
      ],
      "text/plain": [
       "  YEAR_MONTH          DAY_TYPE  TIME_PER_HOUR PT_TYPE ORIGIN_PT_CODE  \\\n",
       "0    2024-05           WEEKDAY              9   TRAIN           DT24   \n",
       "1    2024-05           WEEKDAY              9   TRAIN           EW32   \n",
       "2    2024-05  WEEKENDS/HOLIDAY              6   TRAIN            BP4   \n",
       "3    2024-05           WEEKDAY              6   TRAIN            BP4   \n",
       "4    2024-05  WEEKENDS/HOLIDAY             12   TRAIN           NE15   \n",
       "\n",
       "  DESTINATION_PT_CODE  TOTAL_TRIPS  \n",
       "0                EW32            2  \n",
       "1                DT24            7  \n",
       "2                EW31            6  \n",
       "3                EW31           38  \n",
       "4                 SW5           69  "
      ]
     },
     "execution_count": 11,
     "metadata": {},
     "output_type": "execute_result"
    }
   ],
   "source": [
    "df = pd.read_csv('origin_destination_train_202405.csv')\n",
    "df.head()"
   ]
  },
  {
   "cell_type": "code",
   "execution_count": 12,
   "metadata": {},
   "outputs": [
    {
     "name": "stdout",
     "output_type": "stream",
     "text": [
      "<class 'pandas.core.frame.DataFrame'>\n",
      "RangeIndex: 808618 entries, 0 to 808617\n",
      "Data columns (total 7 columns):\n",
      " #   Column               Non-Null Count   Dtype \n",
      "---  ------               --------------   ----- \n",
      " 0   YEAR_MONTH           808618 non-null  object\n",
      " 1   DAY_TYPE             808618 non-null  object\n",
      " 2   TIME_PER_HOUR        808618 non-null  int64 \n",
      " 3   PT_TYPE              808618 non-null  object\n",
      " 4   ORIGIN_PT_CODE       808618 non-null  object\n",
      " 5   DESTINATION_PT_CODE  808618 non-null  object\n",
      " 6   TOTAL_TRIPS          808618 non-null  int64 \n",
      "dtypes: int64(2), object(5)\n",
      "memory usage: 43.2+ MB\n"
     ]
    }
   ],
   "source": [
    "df.info()"
   ]
  },
  {
   "cell_type": "code",
   "execution_count": 13,
   "metadata": {},
   "outputs": [
    {
     "data": {
      "text/plain": [
       "np.int64(0)"
      ]
     },
     "execution_count": 13,
     "metadata": {},
     "output_type": "execute_result"
    }
   ],
   "source": [
    "df.duplicated().sum()"
   ]
  },
  {
   "cell_type": "markdown",
   "metadata": {},
   "source": [
    "While the data is clean,\n",
    "- Provided station codes are not suitable for visualisation\n",
    "- Dataset lacks train station coordinates to map later\n",
    "- Comparison between weekday and weekend traffic is skewed since there are more weekdays in a month\n",
    "\n",
    "Hence, the following section attempts to\n",
    "1. Replace train station codes with names\n",
    "2. Add coordinates for each train station\n"
   ]
  },
  {
   "cell_type": "markdown",
   "metadata": {},
   "source": [
    "**Checking for Inconsistencies between Datasets**"
   ]
  },
  {
   "cell_type": "code",
   "execution_count": 14,
   "metadata": {},
   "outputs": [
    {
     "name": "stdout",
     "output_type": "stream",
     "text": [
      "set()\n"
     ]
    }
   ],
   "source": [
    "station_names = pd.read_excel(\"Train Station Codes and Chinese Names.xls\")\n",
    "station_coords = pd.read_csv('mrt_coords.csv')\n",
    "df = pd.read_csv('origin_destination_train_202405.csv')\n",
    "\n",
    "# checking for train stations not present in both 'station name' and 'station coordinates' datasets\n",
    "s1 = set(station_names['mrt_station_english'])\n",
    "s2 = set(station_coords['station_name'])\n",
    "common_items = s1.intersection(s2)\n",
    "all_items = s1.union(s2)\n",
    "#print(all_items  - common_items)\n",
    "\n",
    "# checking for origin station codes in main df not present in 'station name' dataset\n",
    "s1 = set(station_names['stn_code'])\n",
    "s3 = set(df['ORIGIN_PT_CODE'].str.split('/').str[0])\n",
    "#print(s3.difference(s1))\n",
    "\n",
    "# checking for destination station codes in main df not present in 'station name' dataset\n",
    "s4 = set(df['DESTINATION_PT_CODE'].str.split('/').str[0])\n",
    "print(s4.difference(s1))\n",
    "\n"
   ]
  },
  {
   "cell_type": "markdown",
   "metadata": {},
   "source": [
    "**Changing train codes to names**"
   ]
  },
  {
   "cell_type": "code",
   "execution_count": 15,
   "metadata": {},
   "outputs": [
    {
     "data": {
      "text/plain": [
       "YEAR_MONTH                  0\n",
       "DAY_TYPE                    0\n",
       "TIME_PER_HOUR               0\n",
       "TOTAL_TRIPS                 0\n",
       "ORIGIN_STATION_NAME         0\n",
       "DESTINATION_STATION_NAME    0\n",
       "dtype: int64"
      ]
     },
     "execution_count": 15,
     "metadata": {},
     "output_type": "execute_result"
    }
   ],
   "source": [
    "def code_to_name_2(df):\n",
    "    # read in necessary files\n",
    "    names = pd.read_excel('Train Station Codes and Chinese Names.xls')\n",
    "\n",
    "    # change origin code to origin station\n",
    "    df['ORIGIN_PT_CODE'] = df['ORIGIN_PT_CODE'].str.split('/').str[0]\n",
    "    df = pd.merge(df, names, left_on = 'ORIGIN_PT_CODE', right_on = 'stn_code', how = 'left')\n",
    "    df = df.drop(columns=['stn_code', 'mrt_station_chinese', 'mrt_line_english', 'mrt_line_chinese', 'ORIGIN_PT_CODE', 'PT_TYPE'])\n",
    "    df = df.rename(columns = {'mrt_station_english':'ORIGIN_STATION_NAME'})\n",
    "    #print(result.head())\n",
    "    \n",
    "    # change destination code to destination station\n",
    "    df['DESTINATION_PT_CODE'] = df['DESTINATION_PT_CODE'].str.split('/').str[0]\n",
    "    df = pd.merge(df, names, left_on = 'DESTINATION_PT_CODE', right_on = 'stn_code', how = 'left')\n",
    "    df = df.drop(columns=['stn_code', 'mrt_station_chinese', 'mrt_line_english', 'mrt_line_chinese', 'DESTINATION_PT_CODE'])\n",
    "    df = df.rename(columns = {'mrt_station_english':'DESTINATION_STATION_NAME'})\n",
    "\n",
    "    return df\n",
    "\n",
    "df = pd.read_csv('origin_destination_train_202405.csv')\n",
    "df = code_to_name_2(df)\n",
    "#df.head()\n",
    "df.isna().sum()"
   ]
  },
  {
   "cell_type": "markdown",
   "metadata": {},
   "source": [
    "**Adding coordinates corresponding to each train station**"
   ]
  },
  {
   "cell_type": "code",
   "execution_count": 16,
   "metadata": {},
   "outputs": [
    {
     "data": {
      "text/plain": [
       "YEAR_MONTH                  0\n",
       "DAY_TYPE                    0\n",
       "TIME_PER_HOUR               0\n",
       "TOTAL_TRIPS                 0\n",
       "ORIGIN_STATION_NAME         0\n",
       "DESTINATION_STATION_NAME    0\n",
       "ORIGIN_STATION_LAT          0\n",
       "ORIGIN_STATION_LNG          0\n",
       "DESTINATION_STATION_LAT     0\n",
       "DESTINATION_STATION_LNG     0\n",
       "dtype: int64"
      ]
     },
     "execution_count": 16,
     "metadata": {},
     "output_type": "execute_result"
    }
   ],
   "source": [
    "def add_coordinates(df):\n",
    "    coords = pd.read_csv('mrt_coords.csv')\n",
    "    # add origin station coordinates\n",
    "    df = pd.merge(df, coords, left_on = 'ORIGIN_STATION_NAME', right_on = 'station_name', how = 'left')\n",
    "    df = df.drop(columns=['type', 'station_name'])\n",
    "    df = df.rename(columns = {'lat':'ORIGIN_STATION_LAT', 'lng':'ORIGIN_STATION_LNG'})\n",
    "\n",
    "    # add destination station coordinates\n",
    "    df = pd.merge(df, coords, left_on = 'DESTINATION_STATION_NAME', right_on = 'station_name', how = 'left')\n",
    "    df = df.drop(columns=['type', 'station_name'])\n",
    "    df = df.rename(columns = {'lat':'DESTINATION_STATION_LAT', 'lng':'DESTINATION_STATION_LNG'})\n",
    "\n",
    "    return df\n",
    "\n",
    "df = add_coordinates(df)\n",
    "#df.head()\n",
    "df.isna().sum()\n"
   ]
  },
  {
   "cell_type": "markdown",
   "metadata": {},
   "source": [
    "**Change total trips across all weekdays/weekend to average volume per weekday/weekend**"
   ]
  },
  {
   "cell_type": "code",
   "execution_count": 17,
   "metadata": {},
   "outputs": [
    {
     "data": {
      "text/html": [
       "<div>\n",
       "<style scoped>\n",
       "    .dataframe tbody tr th:only-of-type {\n",
       "        vertical-align: middle;\n",
       "    }\n",
       "\n",
       "    .dataframe tbody tr th {\n",
       "        vertical-align: top;\n",
       "    }\n",
       "\n",
       "    .dataframe thead th {\n",
       "        text-align: right;\n",
       "    }\n",
       "</style>\n",
       "<table border=\"1\" class=\"dataframe\">\n",
       "  <thead>\n",
       "    <tr style=\"text-align: right;\">\n",
       "      <th></th>\n",
       "      <th>YEAR_MONTH</th>\n",
       "      <th>DAY_TYPE</th>\n",
       "      <th>TIME_PER_HOUR</th>\n",
       "      <th>TOTAL_TRIPS</th>\n",
       "      <th>ORIGIN_STATION_NAME</th>\n",
       "      <th>DESTINATION_STATION_NAME</th>\n",
       "      <th>ORIGIN_STATION_LAT</th>\n",
       "      <th>ORIGIN_STATION_LNG</th>\n",
       "      <th>DESTINATION_STATION_LAT</th>\n",
       "      <th>DESTINATION_STATION_LNG</th>\n",
       "    </tr>\n",
       "  </thead>\n",
       "  <tbody>\n",
       "    <tr>\n",
       "      <th>0</th>\n",
       "      <td>2024-05</td>\n",
       "      <td>WEEKDAY</td>\n",
       "      <td>9</td>\n",
       "      <td>0</td>\n",
       "      <td>Geylang Bahru</td>\n",
       "      <td>Tuas West Road</td>\n",
       "      <td>1.321479</td>\n",
       "      <td>103.871457</td>\n",
       "      <td>1.330075</td>\n",
       "      <td>103.639636</td>\n",
       "    </tr>\n",
       "    <tr>\n",
       "      <th>1</th>\n",
       "      <td>2024-05</td>\n",
       "      <td>WEEKDAY</td>\n",
       "      <td>9</td>\n",
       "      <td>0</td>\n",
       "      <td>Tuas West Road</td>\n",
       "      <td>Geylang Bahru</td>\n",
       "      <td>1.330075</td>\n",
       "      <td>103.639636</td>\n",
       "      <td>1.321479</td>\n",
       "      <td>103.871457</td>\n",
       "    </tr>\n",
       "    <tr>\n",
       "      <th>2</th>\n",
       "      <td>2024-05</td>\n",
       "      <td>WEEKENDS/HOLIDAY</td>\n",
       "      <td>6</td>\n",
       "      <td>1</td>\n",
       "      <td>Teck Whye</td>\n",
       "      <td>Tuas Crescent</td>\n",
       "      <td>1.376738</td>\n",
       "      <td>103.753665</td>\n",
       "      <td>1.321091</td>\n",
       "      <td>103.649075</td>\n",
       "    </tr>\n",
       "    <tr>\n",
       "      <th>3</th>\n",
       "      <td>2024-05</td>\n",
       "      <td>WEEKDAY</td>\n",
       "      <td>6</td>\n",
       "      <td>2</td>\n",
       "      <td>Teck Whye</td>\n",
       "      <td>Tuas Crescent</td>\n",
       "      <td>1.376738</td>\n",
       "      <td>103.753665</td>\n",
       "      <td>1.321091</td>\n",
       "      <td>103.649075</td>\n",
       "    </tr>\n",
       "    <tr>\n",
       "      <th>4</th>\n",
       "      <td>2024-05</td>\n",
       "      <td>WEEKENDS/HOLIDAY</td>\n",
       "      <td>12</td>\n",
       "      <td>9</td>\n",
       "      <td>Buangkok</td>\n",
       "      <td>Fernvale</td>\n",
       "      <td>1.382991</td>\n",
       "      <td>103.893347</td>\n",
       "      <td>1.392033</td>\n",
       "      <td>103.876256</td>\n",
       "    </tr>\n",
       "  </tbody>\n",
       "</table>\n",
       "</div>"
      ],
      "text/plain": [
       "  YEAR_MONTH          DAY_TYPE  TIME_PER_HOUR  TOTAL_TRIPS  \\\n",
       "0    2024-05           WEEKDAY              9            0   \n",
       "1    2024-05           WEEKDAY              9            0   \n",
       "2    2024-05  WEEKENDS/HOLIDAY              6            1   \n",
       "3    2024-05           WEEKDAY              6            2   \n",
       "4    2024-05  WEEKENDS/HOLIDAY             12            9   \n",
       "\n",
       "  ORIGIN_STATION_NAME DESTINATION_STATION_NAME  ORIGIN_STATION_LAT  \\\n",
       "0       Geylang Bahru           Tuas West Road            1.321479   \n",
       "1      Tuas West Road            Geylang Bahru            1.330075   \n",
       "2           Teck Whye            Tuas Crescent            1.376738   \n",
       "3           Teck Whye            Tuas Crescent            1.376738   \n",
       "4            Buangkok                 Fernvale            1.382991   \n",
       "\n",
       "   ORIGIN_STATION_LNG  DESTINATION_STATION_LAT  DESTINATION_STATION_LNG  \n",
       "0          103.871457                 1.330075               103.639636  \n",
       "1          103.639636                 1.321479               103.871457  \n",
       "2          103.753665                 1.321091               103.649075  \n",
       "3          103.753665                 1.321091               103.649075  \n",
       "4          103.893347                 1.392033               103.876256  "
      ]
     },
     "execution_count": 17,
     "metadata": {},
     "output_type": "execute_result"
    }
   ],
   "source": [
    "def avg_volume_2(df, weekdays, weekend):\n",
    "    df['TOTAL_TRIPS'] = df['TOTAL_TRIPS'].astype(float)\n",
    "\n",
    "    # Perform the division\n",
    "    df.loc[df['DAY_TYPE'] == 'WEEKDAY', 'TOTAL_TRIPS'] /= weekdays\n",
    "    df.loc[df['DAY_TYPE'] == 'WEEKENDS/HOLIDAY', 'TOTAL_TRIPS'] /= weekend\n",
    "\n",
    "    # Explicitly round and cast to integer type\n",
    "    df['TOTAL_TRIPS'] = df['TOTAL_TRIPS'].round(0).astype(int)\n",
    "\n",
    "    return df\n",
    "\n",
    "avg_volume_2(df, 23, 8).head()\n"
   ]
  },
  {
   "cell_type": "markdown",
   "metadata": {},
   "source": [
    "**Create function that strings together all previous functions**"
   ]
  },
  {
   "cell_type": "code",
   "execution_count": 18,
   "metadata": {},
   "outputs": [],
   "source": [
    "def transform_2(date, avg, weekdays = 0, weekend = 0):\n",
    "    df = pd.read_csv(f'origin_destination_train_{date}.csv')\n",
    "    df = code_to_name_2(df)\n",
    "    df = add_coordinates(df)\n",
    "    if avg:\n",
    "        try:\n",
    "            df = avg_volume_2(df, weekdays, weekend)\n",
    "        except:\n",
    "            print('Invalid weekday/weekend input')\n",
    "    return df\n",
    "\n",
    "df_may = transform_2('202405', True, 21, 10)\n",
    "df_jun = transform_2('202406', True, 19, 11)\n",
    "df_jul = transform_2('202407', True, 23, 8)"
   ]
  },
  {
   "cell_type": "code",
   "execution_count": 19,
   "metadata": {},
   "outputs": [
    {
     "data": {
      "text/plain": [
       "YEAR_MONTH                  0\n",
       "DAY_TYPE                    0\n",
       "TIME_PER_HOUR               0\n",
       "TOTAL_TRIPS                 0\n",
       "ORIGIN_STATION_NAME         0\n",
       "DESTINATION_STATION_NAME    0\n",
       "ORIGIN_STATION_LAT          0\n",
       "ORIGIN_STATION_LNG          0\n",
       "DESTINATION_STATION_LAT     0\n",
       "DESTINATION_STATION_LNG     0\n",
       "dtype: int64"
      ]
     },
     "execution_count": 19,
     "metadata": {},
     "output_type": "execute_result"
    }
   ],
   "source": [
    "df_may.isna().sum()"
   ]
  },
  {
   "cell_type": "markdown",
   "metadata": {},
   "source": [
    "**Exporting transformed datasets**"
   ]
  },
  {
   "cell_type": "code",
   "execution_count": 20,
   "metadata": {},
   "outputs": [],
   "source": [
    "def export_df(df, date):\n",
    "    df.to_csv(f'origin_destination_{date}_updated.csv', index = False)\n",
    "\n",
    "#export_df(df_may, '202405')\n",
    "#export_df(df_jun, '202406')\n",
    "#export_df(df_jul, '202407')"
   ]
  },
  {
   "cell_type": "markdown",
   "metadata": {},
   "source": [
    "## **Step 3: Visualise Data**\n",
    "See Tableau dashboard [here](https://public.tableau.com/app/profile/norman.ng4484/viz/SGMRTTripsMay2024/Outbound)"
   ]
  }
 ],
 "metadata": {
  "kernelspec": {
   "display_name": "Python 3",
   "language": "python",
   "name": "python3"
  },
  "language_info": {
   "codemirror_mode": {
    "name": "ipython",
    "version": 3
   },
   "file_extension": ".py",
   "mimetype": "text/x-python",
   "name": "python",
   "nbconvert_exporter": "python",
   "pygments_lexer": "ipython3",
   "version": "3.10.11"
  }
 },
 "nbformat": 4,
 "nbformat_minor": 2
}
